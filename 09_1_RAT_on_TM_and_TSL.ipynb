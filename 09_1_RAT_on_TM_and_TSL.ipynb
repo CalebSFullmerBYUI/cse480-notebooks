{
  "nbformat": 4,
  "nbformat_minor": 0,
  "metadata": {
    "colab": {
      "name": "09_1_RAT_on_TM_and_TSL.ipynb",
      "provenance": [],
      "collapsed_sections": []
    },
    "kernelspec": {
      "name": "python3",
      "display_name": "Python 3"
    }
  },
  "cells": [
    {
      "cell_type": "markdown",
      "metadata": {
        "id": "YAQDN0tRKYqZ"
      },
      "source": [
        "# RAT on TM and TSL\n",
        "## Due: Monday, 1 March 2021, 2:30 pm."
      ]
    },
    {
      "cell_type": "markdown",
      "metadata": {
        "id": "l_RDPVsaK4UY"
      },
      "source": [
        "### True or False Questions"
      ]
    },
    {
      "cell_type": "code",
      "metadata": {
        "id": "3ntnzBMdKmaI"
      },
      "source": [
        "#@markdown --- True or False? **ANYTHING** you can instruct a computer to do in any programming language can also be programmed into a Turing Machine.\n",
        "answer1 = True  #@param {type: \"boolean\"}\n",
        "\n",
        "#@markdown --- True or False? The Church-Turing Thesis gives us an **informal way** to talk about algorithms.\n",
        "answer2 = False  #@param {type: \"boolean\"}\n",
        "\n",
        "#@markdown --- True or False? Both Church’s model and Turing’s model correctly capture the mathematical notion of \"effective computability,\" i.e., of *explicit algorithmic processes*.\n",
        "\n",
        "answer3 = True  #@param {type: \"boolean\"}\n",
        "\n",
        "#@markdown --- True or False? Anything not computable by a Turing Machine is not computable **at all**.\n",
        "answer4 = True  #@param {type: \"boolean\"}\n",
        "\n",
        "#@markdown --- True or False? The tape of a Turing Machine can be modeled by two unbounded stacks.\n",
        "answer5 = True  #@param {type: \"boolean\"}\n",
        "\n",
        "#@markdown --- True or False? A Turing Machine can halt in any state.\n",
        "answer6 = True  #@param {type: \"boolean\"}\n",
        "\n",
        "#@markdown --- True or False? A Turing Machine with its starting state q_0 in its set of final states has Sigma* as its language.\n",
        "answer7 = False  #@param {type: \"boolean\"}\n",
        "\n",
        "#@markdown --- True or False? It is necessary for a Turing Machine to read all of its input before halting.\n",
        "answer8 = False  #@param {type: \"boolean\"}\n"
      ],
      "execution_count": 1,
      "outputs": []
    },
    {
      "cell_type": "markdown",
      "metadata": {
        "id": "_7Hq6LLrNFAP"
      },
      "source": [
        "### What is the language of this Turing Machine?"
      ]
    },
    {
      "cell_type": "markdown",
      "metadata": {
        "id": "90gchCV5NUsb"
      },
      "source": [
        "In the table below, q0 is the start state, q6 is the final state, B represents the blank symbol, and moves occur from the row states to the column states.\n",
        "\n",
        "Simulate the operation of the Turing Machine on at least inputs 'aaabbc' and 'aabbcc', and choose the correct one of four descriptions of its language."
      ]
    },
    {
      "cell_type": "markdown",
      "metadata": {
        "id": "Dtc-At8iNsQa"
      },
      "source": [
        "```\n",
        "         q0        q1        q2        q3        q4        q5        q6\n",
        "    +---------+---------+---------+---------+---------+---------+---------+\n",
        " q0 | -       | a; X, R | -       | -       | Y; Y, R | -       | B; B, R |\n",
        "    +---------+---------+---------+---------+---------+---------+---------+\n",
        " q1 | -       | a; a, R | b; Y, R | -       | -       | -       | -       |\n",
        "    | -       | Y; Y, R | -       | -       | -       | -       | -       |\n",
        "    +---------+---------+---------+---------+---------+---------+---------+\n",
        " q2 | -       | -       | Z; Z, R | c; Z, L | -       | -       | -       |\n",
        "    | -       | -       | b; b, R | -       | -       | -       | -       |\n",
        "    +---------+---------+---------+---------+---------+---------+---------+\n",
        " q3 | X; X, R | -       | -       | b; b, L | -       | -       | -       |\n",
        "    | -       | -       | -       | Y; Y, L | -       | -       | -       |\n",
        "    | -       | -       | -       | a; a, L | -       | -       | -       |\n",
        "    | -       | -       | -       | Z; Z, L | -       | -       | -       |\n",
        "    | -       | -       | -       | c; c, L | -       | -       | -       |\n",
        "    +---------+---------+---------+---------+---------+---------+---------+\n",
        " q4 | -       | -       | -       | -       | Y; Y, R | Z; Z, R | -       |\n",
        "    +---------+---------+---------+---------+---------+---------+---------+\n",
        " q5 | -       | -       | -       | -       | -       | Z; Z, R | B; B, R |\n",
        "    +---------+---------+---------+---------+---------+---------+---------+\n",
        " q6 | -       | -       | -       | -       | -       | -       | -       |\n",
        "    +---------------------------------------------------------------------+\n",
        "```"
      ]
    },
    {
      "cell_type": "code",
      "metadata": {
        "id": "B2e3u_yOOA_E"
      },
      "source": [
        "#@title Multiple Choice\n",
        "select_one = \"Zero or more a's followed by the same number of b's followed by the same number of c's.\" #@param [\"Not this one\", \"Zero or more a's followed by the same number of b's followed by the same number of c's.\", \"Some number of a's followed by one fewer b's followed by one fewer c's.\", \"An equal number of a's, b's and c's, with the empty string included.\", \"Some number (n, could be zero) of a's followed by n+1 b's followed by n+2 c's.\"] {allow-input: false}\n"
      ],
      "execution_count": 2,
      "outputs": []
    },
    {
      "cell_type": "markdown",
      "metadata": {
        "id": "BXwy9vCEO1EX"
      },
      "source": [
        "### Trace Execution"
      ]
    },
    {
      "cell_type": "markdown",
      "metadata": {
        "id": "E8pe62gzO4Tk"
      },
      "source": [
        "Study the Turing Machine described in the file at\n",
        "\n",
        "https://firstthreeodds.org/17657741833134731255/tm101.xml\n",
        "\n",
        "Give its configuration history (i.e., a list of its instantaneous descriptions) given 01101#01101 as input, assuming B represents the blank symbol.\n",
        "\n",
        "\n",
        "St0, **0**1101#01101\\\n",
        "St1, X**1**101#01101\\\n",
        "St1, X1**1**01#01101\\\n",
        "St1, X11**0**1#01101\\\n",
        "St1, X110**1**#01101\\\n",
        "St1, X1101**#**01101\\\n",
        "St2, X1101#**0**1101\\\n",
        "St3, X1101**#**X1101\\\n",
        "St4, X110**1**#X1101\\\n",
        "St4, X11**0**1#X1101\\\n",
        "St4, X1**1**01#X1101\\\n",
        "St4, X**1**101#X1101\\\n",
        "St4, **X**1101#X1101\\\n",
        "St0, X**1**101#X1101\\\n",
        "St7, XY**1**01#X1101\\\n",
        "St7, XY1**0**1#X1101\\\n",
        "St7, XY10**1**#X1101\\\n",
        "St7, XY101**#**X1101\\\n",
        "St8, XY101#**X**1101\\\n",
        "St8, XY101#X**1**101\\\n",
        "St9, XY101#**X**Y101\\\n",
        "St9, XY101**#**XY101\\\n",
        "St10, XY10**1**#XY101\\\n",
        "St10, XY1**0**1#XY101\\\n",
        "St10, XY**1**01#XY101\\\n",
        "St10, X**Y**101#XY101\\\n",
        "St0, XY**1**01#XY101\\\n",
        "St7, XYY**0**1#XY101\\\n",
        "St7, XYY0**1**#XY101\\\n",
        "St7, XYY01**#**XY101\\\n",
        "St8, XYY01#**X**Y101\\\n",
        "St8, XYY01#X**Y**101\\\n",
        "St8, XYY01#XY**1**01\\\n",
        "St9, XYY01#X**Y**Y01\\\n",
        "St9, XYY01#**X**YY01\\\n",
        "St9, XYY01**#**XYY01\\\n",
        "St10, XYY0**1**#XYY01\\\n",
        "St10, XYY**0**1#XYY01\\\n",
        "St10, XY**Y**01#XYY01\\\n",
        "St0, XYY**0**1#XYY01\\\n",
        "St1, XYYX**1**#XYY01\\\n",
        "St1, XYYX1**#**XYY01\\\n",
        "St2, XYYX1#**X**YY01\\\n",
        "St2, XYYX1#X**Y**Y01\\\n",
        "St2, XYYX1#XY**Y**01\\\n",
        "St2, XYYX1#XYY**0**1\\\n",
        "St3, XYYX1#XY**Y**X1\\\n",
        "St3, XYYX1#X**Y**YX1\\\n",
        "St3, XYYX1#**X**YYX1\\\n",
        "St3, XYYX1**#**XYYX1\\\n",
        "St3, XYYX1#**X**YYX1\\\n",
        "St4, XYYX**1**#XYYX1\\\n",
        "St4, XYY**X**1#XYYX1\\\n",
        "St0, XYYX**1**#XYYX1\\\n",
        "St7, XYYXY**#**XYYX1\\\n",
        "St8, XYYXY#**X**YYX1\\\n",
        "St8, XYYXY#X**Y**YX1\\\n",
        "St8, XYYXY#XY**Y**X1\\\n",
        "St8, XYYXY#XYY**X**1\\\n",
        "St8, XYYXY#XYYX**1**\\\n",
        "St9, XYYXY#XYY**X**Y\\\n",
        "St9, XYYXY#XY**Y**XY\\\n",
        "St9, XYYXY#X**Y**YXY\\\n",
        "St9, XYYXY#**X**YYXY\\\n",
        "St9, XYYXY**#**XYYXY\\\n",
        "St10, XYYX**Y**#XYYXY\\\n",
        "St0, XYYXY**#**XYYXY\\\n",
        "St5, XYYXY#**X**YYXY\\\n",
        "St5, XYYXY#X**Y**YXY\\\n",
        "St5, XYYXY#XY**Y**XY\\\n",
        "St5, XYYXY#XYY**X**Y\\\n",
        "St5, XYYXY#XYYX**Y**\\\n",
        "St5, XYYXY#XYYXY**B**\\\n",
        "St6, XYYXY#XYYXYB**B**"
      ]
    },
    {
      "cell_type": "markdown",
      "metadata": {
        "id": "hIChK1MwPHWS"
      },
      "source": [
        "### Implement The Simple Language's Macro 8"
      ]
    },
    {
      "cell_type": "markdown",
      "metadata": {
        "id": "CQcWZTo1PLND"
      },
      "source": [
        "#### Macro 1\n",
        "\n",
        "X $\\leftarrow$ 0 (or X <-- 0: clearing a variable)\n",
        "```\n",
        "while X\n",
        "{\n",
        "  decr X\n",
        "}\n",
        "```"
      ]
    },
    {
      "cell_type": "markdown",
      "metadata": {
        "id": "xeAbbSFdPjrE"
      },
      "source": [
        "#### Macro 2\n",
        "\n",
        "X $\\leftarrow$ n (assignment statement)\n",
        "\n",
        "```\n",
        "X <-- 0\n",
        "incr X\n",
        "incr X\n",
        "incr X\n",
        "...\n",
        "incr X\n",
        "```\n",
        "The number of 'incr X' statements is **n**."
      ]
    },
    {
      "cell_type": "markdown",
      "metadata": {
        "id": "wfQEeFuZPkEA"
      },
      "source": [
        "#### Macro 3\n",
        "\n",
        "Y $\\leftarrow$ X (variable assignment)\n",
        "```\n",
        "Y <-- 0\n",
        "T <-- 0\n",
        "while X\n",
        "{\n",
        "   incr Y\n",
        "   decr X\n",
        "   incr T\n",
        "}\n",
        "while T\n",
        "{\n",
        "   decr T\n",
        "   incr X\n",
        "}\n",
        "```"
      ]
    },
    {
      "cell_type": "markdown",
      "metadata": {
        "id": "a0FQ59RrPkHj"
      },
      "source": [
        "#### Macro 4\n",
        "\n",
        "Z $\\leftarrow$ X + Y (addition --- repeated increment)\n",
        "```\n",
        "Z <-- X\n",
        "T <-- Y\n",
        "while T\n",
        "{\n",
        "   incr Z\n",
        "   decr T\n",
        "}\n",
        "```"
      ]
    },
    {
      "cell_type": "markdown",
      "metadata": {
        "id": "eIWywTohPkKs"
      },
      "source": [
        "#### Macro 5\n",
        "\n",
        "Z $\\leftarrow$ X * Y (multiplication --- repeated addition)\n",
        "```\n",
        "Z <-- 0\n",
        "T <-- Y\n",
        "while T\n",
        "{\n",
        "   Z <-- Z + X\n",
        "   decr T\n",
        "}\n",
        "```"
      ]
    },
    {
      "cell_type": "markdown",
      "metadata": {
        "id": "X7J-2f1rPkNr"
      },
      "source": [
        "#### Macro 6\n",
        "\n",
        "comp X (if X is 0 make it 1; if non-zero make it 0)\n",
        "```\n",
        "T <-- 1\n",
        "while X\n",
        "{\n",
        "   X <-- 0\n",
        "   T <-- 0\n",
        "}\n",
        "while T\n",
        "{\n",
        "   incr X\n",
        "   decr T\n",
        "}\n",
        "```"
      ]
    },
    {
      "cell_type": "markdown",
      "metadata": {
        "id": "e8h7H8WuPkQ1"
      },
      "source": [
        "#### Macro 7\n",
        "\n",
        "if X then A1 else A2\n",
        "```\n",
        "T <-- X\n",
        "while T\n",
        "{\n",
        "    A1\n",
        "    T <-- 0\n",
        "}\n",
        "T <-- X\n",
        "comp T\n",
        "while T\n",
        "{\n",
        "   A2\n",
        "   T <-- 0\n",
        "}\n",
        "```"
      ]
    },
    {
      "cell_type": "markdown",
      "metadata": {
        "id": "CPuJB6BZPkXW"
      },
      "source": [
        "#### Macro 8\n",
        "\n",
        "if X < Y then A1 else A2\n",
        "```\n",
        "T <-- X\n",
        "F <-- Y\n",
        "A <-- Y\n",
        "E <-- 1\n",
        "\n",
        "\n",
        "B <-- X\n",
        "while B\n",
        "{\n",
        "\n",
        "  if Y\n",
        "  {\n",
        "\n",
        "\n",
        "  B <-- Y\n",
        "  while B\n",
        "  {\n",
        "    while T\n",
        "    {\n",
        "      decr F\n",
        "      decr T\n",
        "\n",
        "      A <-- F\n",
        "      comp A\n",
        "\n",
        "      B <-- A\n",
        "      while B\n",
        "      {\n",
        "        T <-- 0\n",
        "        E <-- 0\n",
        "        B <-- 0\n",
        "      }\n",
        "    }\n",
        "\n",
        "    B <-- E\n",
        "    while B\n",
        "    {\n",
        "      A1\n",
        "      B <-- 0\n",
        "    }\n",
        "    B <-- E\n",
        "    comp B\n",
        "    while B\n",
        "    {\n",
        "      A2\n",
        "      B <-- 0\n",
        "    }\n",
        "    \n",
        "    B <-- 0\n",
        "  }\n",
        "\n",
        "  B <-- Y\n",
        "  comp B\n",
        "  while B\n",
        "  {\n",
        "     A2\n",
        "     B <-- 0\n",
        "  }\n",
        "\n",
        "  B <-- 0\n",
        "}\n",
        "B <-- X\n",
        "comp B\n",
        "while B\n",
        "{\n",
        "\n",
        "  B <-- Y\n",
        "  while B\n",
        "  {\n",
        "    A1\n",
        "    B <-- 0\n",
        "  }\n",
        "  B <-- Y\n",
        "  comp B\n",
        "  while B\n",
        "  {\n",
        "    A2\n",
        "    B <-- 0\n",
        "  }\n",
        "\n",
        "  B <-- 0\n",
        "}\n",
        "\n",
        "\n",
        "\n",
        "\n",
        "B <-- X\n",
        "while B\n",
        "{\n",
        "    A1\n",
        "    B <-- 0\n",
        "}\n",
        "B <-- X\n",
        "comp B\n",
        "while B\n",
        "{\n",
        "   A2\n",
        "   B <-- 0\n",
        "}\n",
        "```"
      ]
    },
    {
      "cell_type": "markdown",
      "metadata": {
        "id": "zovLGw7RG57Z"
      },
      "source": [
        "<br>\r\n",
        "\r\n",
        "This should be the same as above, but it uses regular if-else statements and looks cleaner.\r\n",
        "\r\n",
        "```\r\n",
        "T <-- X\r\n",
        "F <-- Y\r\n",
        "A <-- Y\r\n",
        "E <-- 1\r\n",
        "\r\n",
        "if X\r\n",
        "\r\n",
        "\r\n",
        "\r\n",
        "{\r\n",
        "  if Y\r\n",
        "  {\r\n",
        "    while T\r\n",
        "    {\r\n",
        "      decr F\r\n",
        "      decr T\r\n",
        "\r\n",
        "      A <-- F\r\n",
        "      comp A\r\n",
        "\r\n",
        "      if A\r\n",
        "      {\r\n",
        "        T <-- 0\r\n",
        "        E <-- 0\r\n",
        "      }\r\n",
        "    }\r\n",
        "\r\n",
        "    if E\r\n",
        "    {\r\n",
        "      A1\r\n",
        "    }\r\n",
        "    else\r\n",
        "    {\r\n",
        "      A2\r\n",
        "    }\r\n",
        "  }\r\n",
        "  else\r\n",
        "  {\r\n",
        "    A2\r\n",
        "  }\r\n",
        "}\r\n",
        "else\r\n",
        "{\r\n",
        "  if Y\r\n",
        "  {\r\n",
        "    A1\r\n",
        "  }\r\n",
        "  else\r\n",
        "  {\r\n",
        "    A2\r\n",
        "  }\r\n",
        "}\r\n",
        "```"
      ]
    },
    {
      "cell_type": "markdown",
      "metadata": {
        "id": "g-XHV3kfR7rV"
      },
      "source": [
        "##### Hint:"
      ]
    },
    {
      "cell_type": "markdown",
      "metadata": {
        "id": "JBgGpZFGR_En"
      },
      "source": [
        "Use Macro 7 in your solution (twice!)."
      ]
    }
  ]
}