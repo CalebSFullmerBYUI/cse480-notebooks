{
  "nbformat": 4,
  "nbformat_minor": 0,
  "metadata": {
    "colab": {
      "name": "06_5_Harder_Proof_Problem.ipynb",
      "provenance": [],
      "collapsed_sections": []
    },
    "kernelspec": {
      "name": "python3",
      "display_name": "Python 3"
    }
  },
  "cells": [
    {
      "cell_type": "markdown",
      "metadata": {
        "id": "2kbAif2IOr9Y"
      },
      "source": [
        "# Harder Proof Problem\r\n",
        "\r\n",
        "Given that\r\n",
        "$$\\frac{1}{n(n+1)} = \\frac{1}{n} - \\frac{1}{n+1},$$\r\n",
        "what is the value of the summation\r\n",
        "$$\\sum_{n=1}^\\infty \\frac{b(n)}{n(n+1)},$$\r\n",
        "\r\n",
        "where $b(n)$ counts the number of ones in the binary expansion of $n$?\r\n",
        "\r\n",
        "The harder question is, why does this value converge to the number it does? Can you find an expression in common mathematical symbols (using 5 or fewer characters) for this value? And what does binary expansion have to do with why this value is what it is? How would you prove it?\r\n",
        "\r\n",
        "Hint: you may find it helpful at some point to refer to the so-called [Theoretical Computer Science Cheat Sheet](https://www.tug.org/texshowcase/cheat.pdf)."
      ]
    },
    {
      "cell_type": "markdown",
      "metadata": {
        "id": "X1uSfvbpPUh2"
      },
      "source": [
        "# Attempted Answer\r\n",
        "\r\n",
        "We were able to get some help from Hunter, but I still don’t really understand it.\r\n",
        "\r\n",
        "<br>\r\n",
        "\r\n",
        "I was able to find somewhat of a pattern in the number of ones in the binary representation of the natural numbers, and the thing Hunter posted (about b(2n) being equal to b(n)) helped me understand it a bit more.\r\n",
        "\r\n",
        "<br>\r\n",
        "\r\n",
        "It seems that ones can only be added on odd numbers, with even numbers either giving the same number of ones as the value before them or having a decrease in the number of ones.\r\n",
        "\r\n",
        "<br>\r\n",
        "\r\n",
        "With the help of the document Brother Neff posted, I was also able to figure out that 2*ln(2) is equal to ln(4). Based on the CS mathematic cheat sheet this was obviously equal to double the alternating harmonic series. However, I have not been able to find any connection between\r\n",
        "\r\n",
        "$\\sum_{n=1}^\\infty \\frac{b(n)}{n(n+1)}$\r\n",
        "\r\n",
        "and\r\n",
        "\r\n",
        "$2*\\sum_{n=1}^\\infty \\frac{(-1)^{n-1}}{n}$\r\n",
        "\r\n",
        "aside from the fact that they both yield ln(4).\r\n",
        "\r\n",
        "Even expanding to\r\n",
        "\r\n",
        "$\\sum_{n=1}^\\infty \\frac{b(n)}{n} - \\frac{b(n)}{(n+1)}$\r\n",
        "\r\n",
        "or\r\n",
        "\r\n",
        "$\\sum_{n=1}^\\infty \\frac{b(n)}{n} - \\sum_{n=1}^\\infty \\frac{b(n)}{(n+1)}$\r\n",
        "\r\n",
        "didn’t give me any more indication as to what is going on.\r\n"
      ]
    },
    {
      "cell_type": "markdown",
      "metadata": {
        "id": "qZaJZ1w3jDLm"
      },
      "source": [
        "https://www.desmos.com/calculator/qi2jizdxzs\r\n",
        "\r\n",
        "https://www.desmos.com/calculator/vibfe677od"
      ]
    },
    {
      "cell_type": "markdown",
      "metadata": {
        "id": "NPIgS4NwHm4v"
      },
      "source": [
        ""
      ]
    },
    {
      "cell_type": "code",
      "metadata": {
        "id": "_2HQYtSIPKTi"
      },
      "source": [
        "import math\r\n",
        "\r\n",
        "def getOnes(a):\r\n",
        "  if a == 0:\r\n",
        "    return 0\r\n",
        "  else:\r\n",
        "    return 1 + getOnes(a - math.pow(2, math.floor(math.log(a, 2))))\r\n",
        "\r\n",
        "\r\n",
        "def sequence(val):\r\n",
        "  total = 0.0\r\n",
        "  for x in range(1, val + 1):\r\n",
        "    total += (getOnes(x) / (math.pow(x, 2) + x))\r\n",
        "  return total\r\n",
        "\r\n",
        "def sequence1(val):\r\n",
        "  total = 0.0\r\n",
        "  for x in range(1, val + 1):\r\n",
        "    total += (getOnes(x) / x)\r\n",
        "  return total\r\n",
        "\r\n",
        "def sequence2(val):\r\n",
        "  total = 0.0\r\n",
        "  for x in range(1, val + 1):\r\n",
        "    total += (getOnes(x) / (x + 1))\r\n",
        "  return total\r\n",
        "\r\n",
        "def sequence3(val):\r\n",
        "  total = 0.0\r\n",
        "  for x in range(1, val + 1):\r\n",
        "    total += (1 / x)\r\n",
        "  return total\r\n",
        "\r\n",
        "def sequence4(val):\r\n",
        "  total = 0.0\r\n",
        "  for x in range(1, val + 1):\r\n",
        "    total += (1 / (x + 1))\r\n",
        "  return total\r\n",
        "\r\n",
        "#for x in range(10):"
      ],
      "execution_count": null,
      "outputs": []
    },
    {
      "cell_type": "code",
      "metadata": {
        "colab": {
          "base_uri": "https://localhost:8080/"
        },
        "id": "9yuAP7ZydQgc",
        "outputId": "79ee1992-81c3-483c-f08a-a1394b6ceb98"
      },
      "source": [
        "print(sequence(1000000))"
      ],
      "execution_count": null,
      "outputs": [
        {
          "output_type": "stream",
          "text": [
            "1.3862831558809863\n"
          ],
          "name": "stdout"
        }
      ]
    },
    {
      "cell_type": "code",
      "metadata": {
        "colab": {
          "base_uri": "https://localhost:8080/"
        },
        "id": "X1qKM2dpdR7p",
        "outputId": "508ae807-49f8-4c4a-ac23-9249b0c23fe8"
      },
      "source": [
        "print(sequence1(1000000))"
      ],
      "execution_count": null,
      "outputs": [
        {
          "output_type": "stream",
          "text": [
            "77.73347250209864\n"
          ],
          "name": "stdout"
        }
      ]
    },
    {
      "cell_type": "code",
      "metadata": {
        "colab": {
          "base_uri": "https://localhost:8080/"
        },
        "id": "gvc7Ym8tdTE4",
        "outputId": "4531d6b6-4e74-444c-879a-76907ae77537"
      },
      "source": [
        "print(sequence2(1000000))"
      ],
      "execution_count": null,
      "outputs": [
        {
          "output_type": "stream",
          "text": [
            "76.34718934622147\n"
          ],
          "name": "stdout"
        }
      ]
    },
    {
      "cell_type": "code",
      "metadata": {
        "colab": {
          "base_uri": "https://localhost:8080/"
        },
        "id": "L_-rJT5udxjA",
        "outputId": "15a22fd3-099a-4a4b-9b90-f6b0f34157ec"
      },
      "source": [
        "print(sequence3(1000000))"
      ],
      "execution_count": null,
      "outputs": [
        {
          "output_type": "stream",
          "text": [
            "14.392726722864989\n"
          ],
          "name": "stdout"
        }
      ]
    },
    {
      "cell_type": "code",
      "metadata": {
        "colab": {
          "base_uri": "https://localhost:8080/"
        },
        "id": "hgxioB1hdz2Y",
        "outputId": "ec804a17-0cd8-4b2b-d4a2-180aba2af522"
      },
      "source": [
        "print(sequence4(1000000))"
      ],
      "execution_count": null,
      "outputs": [
        {
          "output_type": "stream",
          "text": [
            "13.392727722864024\n"
          ],
          "name": "stdout"
        }
      ]
    },
    {
      "cell_type": "code",
      "metadata": {
        "colab": {
          "base_uri": "https://localhost:8080/"
        },
        "id": "Gz8MJaBgd6i_",
        "outputId": "3351aa8c-e930-491a-f0d7-5b201dadffda"
      },
      "source": [
        "print(sequence1(1000000) - sequence3(1000000))"
      ],
      "execution_count": null,
      "outputs": [
        {
          "output_type": "stream",
          "text": [
            "63.34074577923364\n"
          ],
          "name": "stdout"
        }
      ]
    },
    {
      "cell_type": "code",
      "metadata": {
        "colab": {
          "base_uri": "https://localhost:8080/"
        },
        "id": "eDT7PAoaeAlx",
        "outputId": "669767c0-ad4d-438a-ab7c-b2155f288c96"
      },
      "source": [
        "print(sequence2(1000000) - sequence4(1000000))"
      ],
      "execution_count": null,
      "outputs": [
        {
          "output_type": "stream",
          "text": [
            "62.954461623357446\n"
          ],
          "name": "stdout"
        }
      ]
    },
    {
      "cell_type": "markdown",
      "metadata": {
        "id": "ko2YicpkepUE"
      },
      "source": [
        "https://mathworld.wolfram.com/Binary.html\r\n",
        "\r\n",
        "00) 0\\\r\n",
        "01) 1\\\r\n",
        "02) 1\\\r\n",
        "03) 2\r\n",
        "\r\n",
        "<br>\r\n",
        "\r\n",
        "04) 1\\\r\n",
        "05) 2\\\r\n",
        "06) 2\\\r\n",
        "07) 3\r\n",
        "\r\n",
        "\r\n",
        "<br>\r\n",
        "\r\n",
        "08) 1\\\r\n",
        "09) 2\\\r\n",
        "10) 2\\\r\n",
        "11) 3\r\n",
        "\r\n",
        "\r\n",
        "<br>\r\n",
        "\r\n",
        "12) 2\\\r\n",
        "13) 3\\\r\n",
        "14) 3\\\r\n",
        "15) 4\r\n",
        "\r\n",
        "<br>\r\n",
        "\r\n",
        "16) 1\\\r\n",
        "17) 2\\\r\n",
        "18) 2\\\r\n",
        "19) 3\r\n",
        "\r\n",
        "<br>\r\n",
        "\r\n",
        "20) 2\\\r\n",
        "21) 3\\\r\n",
        "22) 3\\\r\n",
        "23) 4\r\n",
        "\r\n",
        "<br>\r\n",
        "\r\n",
        "24) 2\\\r\n",
        "25) 3\\\r\n",
        "26) 3\\\r\n",
        "27) 4\r\n",
        "\r\n",
        "<br>\r\n",
        "\r\n",
        "28) 3\\\r\n",
        "29) 4\\\r\n",
        "30) 4\\\r\n",
        "31) 5\r\n",
        "\r\n",
        "<br>\r\n",
        "\r\n",
        "32) 1\\\r\n",
        "33) 2\\\r\n",
        "34) 2\\\r\n",
        "35) 3\r\n",
        "\r\n",
        "<br>\r\n",
        "\r\n",
        "36) 2\\\r\n",
        "37) 3\\\r\n",
        "38) 3\\\r\n",
        "39) 4\r\n",
        "\r\n",
        "<br>\r\n",
        "\r\n",
        "40) 2\\\r\n",
        "41) 3\\\r\n",
        "42) 3\\\r\n",
        "43) 4\r\n",
        "\r\n",
        "<br>\r\n",
        "\r\n",
        "44) 3\\\r\n",
        "45) 4\\\r\n",
        "46) 4\\\r\n",
        "47) 5\r\n",
        "\r\n",
        "<br>\r\n",
        "\r\n",
        "48) 2\\\r\n",
        "49) 3\\\r\n",
        "50) 3\\\r\n",
        "51) 4\r\n",
        "\r\n",
        "<br>\r\n",
        "\r\n",
        "52) 3\\\r\n",
        "53) 4\\\r\n",
        "54) 4\\\r\n",
        "55) 5\r\n",
        "\r\n",
        "<br>\r\n",
        "\r\n",
        "56) 3\\\r\n",
        "57) 4\\\r\n",
        "58) 4\\\r\n",
        "59) 5\r\n",
        "\r\n",
        "\r\n",
        "<br>\r\n",
        "\r\n",
        "60) 4\\\r\n",
        "61) 5\\\r\n",
        "62) 5\\\r\n",
        "63) 6\r\n",
        "\r\n",
        "<br>\r\n",
        "\r\n",
        "64) 1\\\r\n",
        "65) 2\\\r\n",
        "66) 2\\\r\n",
        "67) 3\r\n",
        "\r\n",
        "<br>\r\n",
        "\r\n",
        "68) 2\\\r\n",
        "69) 3\\\r\n",
        "70) 3\\\r\n",
        "71) 4\r\n",
        "\r\n",
        "<br>\r\n",
        "\r\n",
        "72) 2\\\r\n",
        "73) 3\\\r\n",
        "74) 3\\\r\n",
        "75) 4\r\n",
        "\r\n",
        "<br>\r\n",
        "\r\n",
        "76) 3\\\r\n",
        "77) 4\\\r\n",
        "78) 4\\\r\n",
        "79) 5\r\n",
        "\r\n",
        "<br>\r\n",
        "\r\n",
        "80) 2\\\r\n",
        "81) 3\\\r\n",
        "82) 3\\\r\n",
        "83) 4\r\n",
        "\r\n",
        "<br>\r\n",
        "\r\n",
        "84) 3\\\r\n",
        "85) 4\\\r\n",
        "86) 4\\\r\n",
        "87) 5\r\n",
        "\r\n",
        "<br>\r\n",
        "\r\n",
        "88) 3\\\r\n",
        "89) 4\\\r\n",
        "90) 4\\\r\n",
        "91) 5\r\n",
        "\r\n",
        "<br>\r\n",
        "\r\n",
        "92) 4\\\r\n",
        "93) 5\\\r\n",
        "94) 5\\\r\n",
        "95) 6\r\n",
        "\r\n",
        "<br>\r\n",
        "\r\n",
        "96) 2\\\r\n",
        "97) 3\\\r\n",
        "98) 3\\\r\n",
        "99) 4"
      ]
    }
  ]
}