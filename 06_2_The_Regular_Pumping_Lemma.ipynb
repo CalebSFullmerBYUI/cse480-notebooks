{
  "nbformat": 4,
  "nbformat_minor": 0,
  "metadata": {
    "colab": {
      "name": "06_2_The_Regular_Pumping_Lemma.ipynb",
      "provenance": [],
      "collapsed_sections": []
    },
    "kernelspec": {
      "name": "python3",
      "display_name": "Python 3"
    }
  },
  "cells": [
    {
      "cell_type": "markdown",
      "metadata": {
        "id": "15fp3DYOO1OE"
      },
      "source": [
        "# The Regular Pumping Lemma\n",
        "## Class Directed Learning\n",
        "### Due: 9 February 2021"
      ]
    },
    {
      "cell_type": "markdown",
      "metadata": {
        "id": "Kb_PKGBePDV5"
      },
      "source": [
        "Do you understand this \"theorem helper\" (what a lemma is) and how it helps you prove by contradiction that a language is **NOT** regular? Do you understand why it cannot be used to prove that a language **IS** regular?\n",
        "\n",
        "Work through the two resources below and enhance your understanding by helping each other and assess your understanding by quizzing each other.\n",
        "\n",
        "https://rickneff.github.io/regular-languages-pumping-words.pdf\n",
        "\n",
        "https://cs.stackexchange.com/questions/50559/pumping-lemma-if-you-can-keep-pumping-what-does-this-tell-you\n"
      ]
    },
    {
      "cell_type": "markdown",
      "metadata": {
        "id": "ZzN4wvGTPu9d"
      },
      "source": [
        "## Insert your comments here\r\n",
        "\r\n",
        "Clara, Matthew, and I were able to go over these articles, as well as a few others, and we are still a little confused on how to use the pumping lemma. Specifically, how to choose the x, y, and z. Though, I think we are on the right track. It seems that the only time the pumping lemma can be used is when there exists some 'y' that the star operator is applied to. For example, the language { 0, 01 } could not have the pumping lemma applied to it (or perhaps validate by default) as there are no valid values to pump. However, the languages { $0^n$ $1^n$ | n >= 0 } and { $0^n$ $1^m$ | n >= 0, m >= 0 } would be valid options for the pumping lemma.\r\n",
        "\r\n",
        "Concerning why the pumping lemma can not be used to prove that a language is not regular, it is because there are some cases in non-regular languages that can pass the pumping lemma. So in order to prove that a language is regular with the pumping lemma, you must test every possible case. As part of this, it also seems that some non-regular languages will satisfy the pumping lemma.\r\n",
        "\r\n",
        "\r\n",
        "https://www.tutorialspoint.com/automata_theory/pumping_lemma_for_regular_grammar.htm#:~:text=Applications%20of%20Pumping%20Lemma,%2C%20it%20is%20non%2Dregular.\r\n",
        "\r\n",
        "https://www3.nd.edu/~cpennycu/2018/assets/fa-ToC-5.pdf\r\n",
        "\r\n",
        "https://en.wikipedia.org/wiki/Pumping_lemma_for_regular_languages#:~:text=Specifically%2C%20the%20pumping%20lemma%20says,more%20times%20are%20still%20in%20.\r\n",
        "\r\n",
        "https://www.ling.upenn.edu/courses/ling106c/PumpingLemma\r\n",
        "\r\n",
        "https://cs.stackexchange.com/questions/96551/how-to-prove-using-pumping-lemma-that-language-generated-by-abcde-is-regul"
      ]
    }
  ]
}